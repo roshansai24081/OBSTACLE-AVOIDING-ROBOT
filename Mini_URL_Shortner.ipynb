{
 "cells": [
  {
   "cell_type": "code",
   "execution_count": 2,
   "id": "a4581248",
   "metadata": {},
   "outputs": [],
   "source": [
    "import random\n",
    "import string"
   ]
  },
  {
   "cell_type": "code",
   "execution_count": 3,
   "id": "8e2cf910",
   "metadata": {},
   "outputs": [],
   "source": [
    "DB={}#KEY=SHORTURL,VALUE=LONGURL"
   ]
  },
  {
   "cell_type": "code",
   "execution_count": 4,
   "id": "bcc4299e",
   "metadata": {},
   "outputs": [],
   "source": [
    "def getshorturl(longurl,myshorturl=None):# given a long url,returns a short URL\n",
    "    l=random.randint(4,6)\n",
    "    #generating random characters+numbers\n",
    "    if myshorturl:\n",
    "        if myshorturl in DB:\n",
    "            return\"Short URL already exists\"\n",
    "        else:\n",
    "            DB[myshorturl] = longurl\n",
    "            res=\"vr.in/\"+myshorturl\n",
    "            return res\n",
    "    chars=string.ascii_lowercase + string.digits\n",
    "    shorturl=''.join([random.choice(chars)for i in range(l)])\n",
    "    \n",
    "    if shorturl is DB:\n",
    "        return getshorturl(longurl)\n",
    "    else:DB[shorturl]=longurl\n",
    "        \n",
    "    result=\"vr.in/\"+shorturl\n",
    "    return result    "
   ]
  },
  {
   "cell_type": "code",
   "execution_count": 5,
   "id": "838e64d6",
   "metadata": {},
   "outputs": [],
   "source": [
    "def getlongurl(shorturl):#given a short Url,returns a long url\n",
    "    key = shorturl.split('/')[-1]\n",
    "    \n",
    "    \n",
    "    if key in DB:\n",
    "        return DB[key]\n",
    "    else:\n",
    "        return\"doesn't exist\""
   ]
  },
  {
   "cell_type": "code",
   "execution_count": 6,
   "id": "b49844b8",
   "metadata": {},
   "outputs": [],
   "source": [
    "def updatelongurl(shorturl,newlongurl):\n",
    "    if shorturl in DB:\n",
    "        shorturl=shorturl.split(\"/\")[-1]\n",
    "        DB[shorturl]=newlongurl\n",
    "        res=\"vr.in/\"+shorturl\n",
    "        return res\n",
    "    else:\n",
    "        return\"Short URL doesn't exist\""
   ]
  },
  {
   "cell_type": "code",
   "execution_count": 7,
   "id": "e3450e9a",
   "metadata": {},
   "outputs": [
    {
     "name": "stdout",
     "output_type": "stream",
     "text": [
      "Enter 1 for getting short URL\n",
      "Enter 2 to seacrh long URL using short URL\n",
      "Enter 3 to make custom short URL\n",
      "Enter 4 to update long URl\n",
      "Enter 5 to view the DataBase\n",
      "1\n",
      "Enter the URL\n",
      "www.vdr.com\n",
      "vr.in/2066\n"
     ]
    }
   ],
   "source": [
    "print(\"Enter 1 for getting short URL\\nEnter 2 to seacrh long URL using short URL\\nEnter 3 to make custom short URL\\nEnter 4 to update long URl\\nEnter 5 to view the DataBase\")\n",
    "x=int(input())\n",
    "if x==1:\n",
    "    print(\"Enter the URL\")\n",
    "    URL=(input())\n",
    "    print(getshorturl(URL))\n",
    "if x==2:\n",
    "    print(\"Enter the short URL\")\n",
    "    URL=(input())\n",
    "    print(getlongurl(URL))\n",
    "if x==3:\n",
    "         print(\"Enter the URL and Custom Short URL\")\n",
    "         URL,CUSTOM=input().split()\n",
    "         print(\"The custom URl is\",getshorturl(URL,CUSTOM))\n",
    "        \n",
    "if x==4:\n",
    "         print(\"Enter the URL and New URL to update\")\n",
    "         URL,new=input().split()\n",
    "         updatelongurl(URL,new)\n",
    "         print(\"The long URL is updated\")\n",
    "if x==5:\n",
    "    print(DB)"
   ]
  },
  {
   "cell_type": "code",
   "execution_count": null,
   "id": "b1d9dafc",
   "metadata": {},
   "outputs": [],
   "source": []
  }
 ],
 "metadata": {
  "kernelspec": {
   "display_name": "Python 3 (ipykernel)",
   "language": "python",
   "name": "python3"
  },
  "language_info": {
   "codemirror_mode": {
    "name": "ipython",
    "version": 3
   },
   "file_extension": ".py",
   "mimetype": "text/x-python",
   "name": "python",
   "nbconvert_exporter": "python",
   "pygments_lexer": "ipython3",
   "version": "3.10.8"
  }
 },
 "nbformat": 4,
 "nbformat_minor": 5
}
