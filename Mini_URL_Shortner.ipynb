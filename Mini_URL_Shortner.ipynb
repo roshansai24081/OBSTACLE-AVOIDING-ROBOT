{
 "cells": [
  {
   "cell_type": "code",
   "execution_count": 14,
   "id": "a4581248",
   "metadata": {},
   "outputs": [],
   "source": [
    "import random\n",
    "import string"
   ]
  },
  {
   "cell_type": "code",
   "execution_count": 15,
   "id": "8e2cf910",
   "metadata": {},
   "outputs": [],
   "source": [
    "DB={}#KEY=SHORTURL,VALUE=LONGURL"
   ]
  },
  {
   "cell_type": "code",
   "execution_count": 16,
   "id": "bcc4299e",
   "metadata": {},
   "outputs": [],
   "source": [
    "def getshorturl(longurl,myshorturl=None):# given a long url,returns a short URL\n",
    "    l=random.randint(4,6)\n",
    "    #generating random characters+numbers\n",
    "    if myshorturl:\n",
    "        if myshorturl in DB:\n",
    "            return\"Short URL already exists\"\n",
    "        else:\n",
    "            DB[myshorturl] = longurl\n",
    "            res=\"vr.in/\"+myshorturl\n",
    "            return res\n",
    "    chars=string.ascii_lowercase + string.digits\n",
    "    shorturl=''.join([random.choice(chars)for i in range(l)])\n",
    "    \n",
    "    if shorturl is DB:\n",
    "        return getshorturl(longurl)\n",
    "    else:DB[shorturl]=longurl\n",
    "        \n",
    "    result=\"vr.in/\"+shorturl\n",
    "    return result    "
   ]
  },
  {
   "cell_type": "code",
   "execution_count": 17,
   "id": "838e64d6",
   "metadata": {},
   "outputs": [],
   "source": [
    "def getlongurl(shorturl):#given a short Url,returns a long url\n",
    "    key = shorturl.split('/')[-1]\n",
    "    \n",
    "    \n",
    "    if key in DB:\n",
    "        return DB[key]\n",
    "    else:\n",
    "        return\"doesn't exist\""
   ]
  },
  {
   "cell_type": "code",
   "execution_count": 18,
   "id": "b49844b8",
   "metadata": {},
   "outputs": [],
   "source": [
    "def updatelongurl(shorturl,newlongurl):\n",
    "    if shorturl in DB:\n",
    "        shorturl=shorturl.split(\"/\")[-1]\n",
    "        DB[shorturl]=newlongurl\n",
    "        res=\"vr.in/\"+shorturl\n",
    "        return res\n",
    "    else:\n",
    "        return\"Short URL doesn't exist\""
   ]
  },
  {
   "cell_type": "code",
   "execution_count": 19,
   "id": "e3450e9a",
   "metadata": {
    "collapsed": true
   },
   "outputs": [
    {
     "name": "stdout",
     "output_type": "stream",
     "text": [
      "Enter 1 for getting short URL\n",
      "Enter 2 to seacrh long URL using short URL\n",
      "Enter 3 to make custom short URL\n",
      "Enter 4 to update long URl\n",
      "Enter 5 to view the DataBase\n"
     ]
    },
    {
     "ename": "KeyboardInterrupt",
     "evalue": "Interrupted by user",
     "output_type": "error",
     "traceback": [
      "\u001b[1;31m---------------------------------------------------------------------------\u001b[0m",
      "\u001b[1;31mKeyboardInterrupt\u001b[0m                         Traceback (most recent call last)",
      "Cell \u001b[1;32mIn [19], line 2\u001b[0m\n\u001b[0;32m      1\u001b[0m \u001b[38;5;28mprint\u001b[39m(\u001b[38;5;124m\"\u001b[39m\u001b[38;5;124mEnter 1 for getting short URL\u001b[39m\u001b[38;5;130;01m\\n\u001b[39;00m\u001b[38;5;124mEnter 2 to seacrh long URL using short URL\u001b[39m\u001b[38;5;130;01m\\n\u001b[39;00m\u001b[38;5;124mEnter 3 to make custom short URL\u001b[39m\u001b[38;5;130;01m\\n\u001b[39;00m\u001b[38;5;124mEnter 4 to update long URl\u001b[39m\u001b[38;5;130;01m\\n\u001b[39;00m\u001b[38;5;124mEnter 5 to view the DataBase\u001b[39m\u001b[38;5;124m\"\u001b[39m)\n\u001b[1;32m----> 2\u001b[0m x\u001b[38;5;241m=\u001b[39m\u001b[38;5;28mint\u001b[39m(\u001b[38;5;28;43minput\u001b[39;49m\u001b[43m(\u001b[49m\u001b[43m)\u001b[49m)\n\u001b[0;32m      3\u001b[0m \u001b[38;5;28;01mif\u001b[39;00m x\u001b[38;5;241m==\u001b[39m\u001b[38;5;241m1\u001b[39m:\n\u001b[0;32m      4\u001b[0m     \u001b[38;5;28mprint\u001b[39m(\u001b[38;5;124m\"\u001b[39m\u001b[38;5;124mEnter the URL\u001b[39m\u001b[38;5;124m\"\u001b[39m)\n",
      "File \u001b[1;32m~\\AppData\\Local\\Programs\\Python\\Python310\\lib\\site-packages\\ipykernel\\kernelbase.py:1177\u001b[0m, in \u001b[0;36mKernel.raw_input\u001b[1;34m(self, prompt)\u001b[0m\n\u001b[0;32m   1173\u001b[0m \u001b[38;5;28;01mif\u001b[39;00m \u001b[38;5;129;01mnot\u001b[39;00m \u001b[38;5;28mself\u001b[39m\u001b[38;5;241m.\u001b[39m_allow_stdin:\n\u001b[0;32m   1174\u001b[0m     \u001b[38;5;28;01mraise\u001b[39;00m StdinNotImplementedError(\n\u001b[0;32m   1175\u001b[0m         \u001b[38;5;124m\"\u001b[39m\u001b[38;5;124mraw_input was called, but this frontend does not support input requests.\u001b[39m\u001b[38;5;124m\"\u001b[39m\n\u001b[0;32m   1176\u001b[0m     )\n\u001b[1;32m-> 1177\u001b[0m \u001b[38;5;28;01mreturn\u001b[39;00m \u001b[38;5;28;43mself\u001b[39;49m\u001b[38;5;241;43m.\u001b[39;49m\u001b[43m_input_request\u001b[49m\u001b[43m(\u001b[49m\n\u001b[0;32m   1178\u001b[0m \u001b[43m    \u001b[49m\u001b[38;5;28;43mstr\u001b[39;49m\u001b[43m(\u001b[49m\u001b[43mprompt\u001b[49m\u001b[43m)\u001b[49m\u001b[43m,\u001b[49m\n\u001b[0;32m   1179\u001b[0m \u001b[43m    \u001b[49m\u001b[38;5;28;43mself\u001b[39;49m\u001b[38;5;241;43m.\u001b[39;49m\u001b[43m_parent_ident\u001b[49m\u001b[43m[\u001b[49m\u001b[38;5;124;43m\"\u001b[39;49m\u001b[38;5;124;43mshell\u001b[39;49m\u001b[38;5;124;43m\"\u001b[39;49m\u001b[43m]\u001b[49m\u001b[43m,\u001b[49m\n\u001b[0;32m   1180\u001b[0m \u001b[43m    \u001b[49m\u001b[38;5;28;43mself\u001b[39;49m\u001b[38;5;241;43m.\u001b[39;49m\u001b[43mget_parent\u001b[49m\u001b[43m(\u001b[49m\u001b[38;5;124;43m\"\u001b[39;49m\u001b[38;5;124;43mshell\u001b[39;49m\u001b[38;5;124;43m\"\u001b[39;49m\u001b[43m)\u001b[49m\u001b[43m,\u001b[49m\n\u001b[0;32m   1181\u001b[0m \u001b[43m    \u001b[49m\u001b[43mpassword\u001b[49m\u001b[38;5;241;43m=\u001b[39;49m\u001b[38;5;28;43;01mFalse\u001b[39;49;00m\u001b[43m,\u001b[49m\n\u001b[0;32m   1182\u001b[0m \u001b[43m\u001b[49m\u001b[43m)\u001b[49m\n",
      "File \u001b[1;32m~\\AppData\\Local\\Programs\\Python\\Python310\\lib\\site-packages\\ipykernel\\kernelbase.py:1219\u001b[0m, in \u001b[0;36mKernel._input_request\u001b[1;34m(self, prompt, ident, parent, password)\u001b[0m\n\u001b[0;32m   1216\u001b[0m             \u001b[38;5;28;01mbreak\u001b[39;00m\n\u001b[0;32m   1217\u001b[0m \u001b[38;5;28;01mexcept\u001b[39;00m \u001b[38;5;167;01mKeyboardInterrupt\u001b[39;00m:\n\u001b[0;32m   1218\u001b[0m     \u001b[38;5;66;03m# re-raise KeyboardInterrupt, to truncate traceback\u001b[39;00m\n\u001b[1;32m-> 1219\u001b[0m     \u001b[38;5;28;01mraise\u001b[39;00m \u001b[38;5;167;01mKeyboardInterrupt\u001b[39;00m(\u001b[38;5;124m\"\u001b[39m\u001b[38;5;124mInterrupted by user\u001b[39m\u001b[38;5;124m\"\u001b[39m) \u001b[38;5;28;01mfrom\u001b[39;00m \u001b[38;5;28mNone\u001b[39m\n\u001b[0;32m   1220\u001b[0m \u001b[38;5;28;01mexcept\u001b[39;00m \u001b[38;5;167;01mException\u001b[39;00m:\n\u001b[0;32m   1221\u001b[0m     \u001b[38;5;28mself\u001b[39m\u001b[38;5;241m.\u001b[39mlog\u001b[38;5;241m.\u001b[39mwarning(\u001b[38;5;124m\"\u001b[39m\u001b[38;5;124mInvalid Message:\u001b[39m\u001b[38;5;124m\"\u001b[39m, exc_info\u001b[38;5;241m=\u001b[39m\u001b[38;5;28;01mTrue\u001b[39;00m)\n",
      "\u001b[1;31mKeyboardInterrupt\u001b[0m: Interrupted by user"
     ]
    }
   ],
   "source": [
    "print(\"Enter 1 for getting short URL\\nEnter 2 to seacrh long URL using short URL\\nEnter 3 to make custom short URL\\nEnter 4 to update long URl\\nEnter 5 to view the DataBase\")\n",
    "x=int(input())\n",
    "if x==1:\n",
    "    print(\"Enter the URL\")\n",
    "    URL=(input())\n",
    "    print(getshorturl(URL))\n",
    "if x==2:\n",
    "    print(\"Enter the short URL\")\n",
    "    URL=(input())\n",
    "    print(getlongurl(URL))\n",
    "if x==3:\n",
    "         print(\"Enter the URL and Custom Short URL\")\n",
    "         URL,CUSTOM=input().split()\n",
    "         print(\"The custom URl is\",getshorturl(URL,CUSTOM))\n",
    "        \n",
    "if x==4:\n",
    "         print(\"Enter the URL and New URL to update\")\n",
    "         URL,new=input().split()\n",
    "         updatelongurl(URL,new)\n",
    "         print(\"The long URL is updated\")\n",
    "if x==5:\n",
    "    print(DB)"
   ]
  }
 ],
 "metadata": {
  "kernelspec": {
   "display_name": "Python 3 (ipykernel)",
   "language": "python",
   "name": "python3"
  },
  "language_info": {
   "codemirror_mode": {
    "name": "ipython",
    "version": 3
   },
   "file_extension": ".py",
   "mimetype": "text/x-python",
   "name": "python",
   "nbconvert_exporter": "python",
   "pygments_lexer": "ipython3",
   "version": "3.10.8"
  }
 },
 "nbformat": 4,
 "nbformat_minor": 5
}
